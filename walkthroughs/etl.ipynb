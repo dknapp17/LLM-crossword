{
 "cells": [
  {
   "cell_type": "markdown",
   "metadata": {},
   "source": [
    "# Walkthrough/development of crossword web scraping pipeline"
   ]
  },
  {
   "cell_type": "code",
   "execution_count": 1,
   "metadata": {},
   "outputs": [],
   "source": [
    "from zenml import pipeline"
   ]
  },
  {
   "cell_type": "code",
   "execution_count": 14,
   "metadata": {},
   "outputs": [
    {
     "ename": "ModuleNotFoundError",
     "evalue": "No module named 'cw_llm'",
     "output_type": "error",
     "traceback": [
      "\u001b[0;31m---------------------------------------------------------------------------\u001b[0m",
      "\u001b[0;31mModuleNotFoundError\u001b[0m                       Traceback (most recent call last)",
      "Cell \u001b[0;32mIn[14], line 5\u001b[0m\n\u001b[1;32m      2\u001b[0m \u001b[38;5;28;01mfrom\u001b[39;00m \u001b[38;5;21;01mtyping_extensions\u001b[39;00m \u001b[38;5;28;01mimport\u001b[39;00m Annotated\n\u001b[1;32m      3\u001b[0m \u001b[38;5;28;01mfrom\u001b[39;00m \u001b[38;5;21;01mzenml\u001b[39;00m \u001b[38;5;28;01mimport\u001b[39;00m get_step_context, step\n\u001b[0;32m----> 5\u001b[0m \u001b[38;5;28;01mfrom\u001b[39;00m \u001b[38;5;21;01mcw_llm\u001b[39;00m\u001b[38;5;21;01m.\u001b[39;00m\u001b[38;5;21;01mapplication\u001b[39;00m \u001b[38;5;28;01mimport\u001b[39;00m utils\n\u001b[1;32m      6\u001b[0m \u001b[38;5;28;01mfrom\u001b[39;00m \u001b[38;5;21;01mcw_llm\u001b[39;00m\u001b[38;5;21;01m.\u001b[39;00m\u001b[38;5;21;01mdomain\u001b[39;00m\u001b[38;5;21;01m.\u001b[39;00m\u001b[38;5;21;01mdocuments\u001b[39;00m \u001b[38;5;28;01mimport\u001b[39;00m UserDocument\n",
      "\u001b[0;31mModuleNotFoundError\u001b[0m: No module named 'cw_llm'"
     ]
    }
   ],
   "source": [
    "from loguru import logger\n",
    "from typing_extensions import Annotated\n",
    "from zenml import get_step_context, step\n",
    "\n",
    "from cw_llm.application import utils\n",
    "from cw_llm.domain.documents import UserDocument"
   ]
  },
  {
   "cell_type": "code",
   "execution_count": 4,
   "metadata": {},
   "outputs": [
    {
     "ename": "ModuleNotFoundError",
     "evalue": "No module named 'cw_llm'",
     "output_type": "error",
     "traceback": [
      "\u001b[0;31m---------------------------------------------------------------------------\u001b[0m",
      "\u001b[0;31mModuleNotFoundError\u001b[0m                       Traceback (most recent call last)",
      "Cell \u001b[0;32mIn[4], line 5\u001b[0m\n\u001b[1;32m      2\u001b[0m \u001b[38;5;28;01mfrom\u001b[39;00m \u001b[38;5;21;01mtyping_extensions\u001b[39;00m \u001b[38;5;28;01mimport\u001b[39;00m Annotated\n\u001b[1;32m      3\u001b[0m \u001b[38;5;28;01mfrom\u001b[39;00m \u001b[38;5;21;01mzenml\u001b[39;00m \u001b[38;5;28;01mimport\u001b[39;00m get_step_context, step\n\u001b[0;32m----> 5\u001b[0m \u001b[38;5;28;01mfrom\u001b[39;00m \u001b[38;5;21;01mcw_llm\u001b[39;00m\u001b[38;5;21;01m.\u001b[39;00m\u001b[38;5;21;01mapplication\u001b[39;00m \u001b[38;5;28;01mimport\u001b[39;00m utils\n\u001b[1;32m      6\u001b[0m \u001b[38;5;28;01mfrom\u001b[39;00m \u001b[38;5;21;01mcw_llm\u001b[39;00m\u001b[38;5;21;01m.\u001b[39;00m\u001b[38;5;21;01mdomain\u001b[39;00m\u001b[38;5;21;01m.\u001b[39;00m\u001b[38;5;21;01mdocuments\u001b[39;00m \u001b[38;5;28;01mimport\u001b[39;00m UserDocument\n\u001b[1;32m      9\u001b[0m \u001b[38;5;129m@step\u001b[39m\n\u001b[1;32m     10\u001b[0m \u001b[38;5;28;01mdef\u001b[39;00m \u001b[38;5;21mget_or_create_user\u001b[39m(user_full_name: \u001b[38;5;28mstr\u001b[39m) \u001b[38;5;241m-\u001b[39m\u001b[38;5;241m>\u001b[39m Annotated[UserDocument, \u001b[38;5;124m\"\u001b[39m\u001b[38;5;124muser\u001b[39m\u001b[38;5;124m\"\u001b[39m]:\n",
      "\u001b[0;31mModuleNotFoundError\u001b[0m: No module named 'cw_llm'"
     ]
    }
   ],
   "source": [
    "from loguru import logger\n",
    "from typing_extensions import Annotated\n",
    "from zenml import get_step_context, step\n",
    "\n",
    "from cw_llm.application import utils\n",
    "from cw_llm.domain.documents import UserDocument\n",
    "\n",
    "\n",
    "@step\n",
    "def get_or_create_user(user_full_name: str) -> Annotated[UserDocument, \"user\"]:\n",
    "    logger.info(f\"Getting or creating user: {user_full_name}\")\n",
    "\n",
    "    first_name, last_name = utils.split_user_full_name(user_full_name)\n",
    "\n",
    "    user = UserDocument.get_or_create(first_name=first_name, last_name=last_name)\n",
    "\n",
    "    step_context = get_step_context()\n",
    "    step_context.add_output_metadata(output_name=\"user\", metadata=_get_metadata(user_full_name, user))\n",
    "\n",
    "    return user\n",
    "\n",
    "\n",
    "def _get_metadata(user_full_name: str, user: UserDocument) -> dict:\n",
    "    return {\n",
    "        \"query\": {\n",
    "            \"user_full_name\": user_full_name,\n",
    "        },\n",
    "        \"retrieved\": {\n",
    "            \"user_id\": str(user.id),\n",
    "            \"first_name\": user.first_name,\n",
    "            \"last_name\": user.last_name,\n",
    "        },\n",
    "    }"
   ]
  },
  {
   "cell_type": "code",
   "execution_count": null,
   "metadata": {},
   "outputs": [],
   "source": [
    "@step\n",
    "def crawl_links(user: UserDocument, links: list[str]) -> Annotated[list[str], \"crawled_links\"]:\n",
    "    dispatcher = CrawlerDispatcher.build().register_linkedin().register_medium().register_github()\n",
    "\n",
    "    logger.info(f\"Starting to crawl {len(links)} link(s).\")\n",
    "\n",
    "    metadata = {}\n",
    "    successfull_crawls = 0\n",
    "    for link in tqdm(links):\n",
    "        successfull_crawl, crawled_domain = _crawl_link(dispatcher, link, user)\n",
    "        successfull_crawls += successfull_crawl\n",
    "\n",
    "        metadata = _add_to_metadata(metadata, crawled_domain, successfull_crawl)\n",
    "\n",
    "    step_context = get_step_context()\n",
    "    step_context.add_output_metadata(output_name=\"crawled_links\", metadata=metadata)\n",
    "\n",
    "    logger.info(f\"Successfully crawled {successfull_crawls} / {len(links)} links.\")\n",
    "\n",
    "    return links\n",
    "\n",
    "\n",
    "def _crawl_link(dispatcher: CrawlerDispatcher, link: str, user: UserDocument) -> tuple[bool, str]:\n",
    "    crawler = dispatcher.get_crawler(link)\n",
    "    crawler_domain = urlparse(link).netloc\n",
    "\n",
    "    try:\n",
    "        crawler.extract(link=link, user=user)\n",
    "\n",
    "        return (True, crawler_domain)\n",
    "    except Exception as e:\n",
    "        logger.error(f\"An error occurred while crowling: {e!s}\")\n",
    "\n",
    "        return (False, crawler_domain)\n",
    "\n",
    "\n",
    "def _add_to_metadata(metadata: dict, domain: str, successfull_crawl: bool) -> dict:\n",
    "    if domain not in metadata:\n",
    "        metadata[domain] = {}\n",
    "    metadata[domain][\"successful\"] = metadata.get(domain, {}).get(\"successful\", 0) + successfull_crawl\n",
    "    metadata[domain][\"total\"] = metadata.get(domain, {}).get(\"total\", 0) + 1\n",
    "\n",
    "    return metadata"
   ]
  },
  {
   "cell_type": "code",
   "execution_count": null,
   "metadata": {},
   "outputs": [],
   "source": [
    "@pipeline\n",
    "def digital_data_etl(user_full_name: str, links: list[str]) -> str:\n",
    "    user = get_or_create_user(user_full_name)\n",
    "    last_step = crawl_links(user = user, links = links)\n",
    "\n",
    "    return last_step.invocation_id"
   ]
  },
  {
   "cell_type": "markdown",
   "metadata": {},
   "source": [
    "## example usage"
   ]
  },
  {
   "cell_type": "code",
   "execution_count": 3,
   "metadata": {},
   "outputs": [
    {
     "ename": "NameError",
     "evalue": "name 'get_or_create_user' is not defined",
     "output_type": "error",
     "traceback": [
      "\u001b[0;31m---------------------------------------------------------------------------\u001b[0m",
      "\u001b[0;31mNameError\u001b[0m                                 Traceback (most recent call last)",
      "Cell \u001b[0;32mIn[3], line 1\u001b[0m\n\u001b[0;32m----> 1\u001b[0m \u001b[43mget_or_create_user\u001b[49m(\u001b[38;5;124m'\u001b[39m\u001b[38;5;124mDavid Knapp\u001b[39m\u001b[38;5;124m'\u001b[39m)\n",
      "\u001b[0;31mNameError\u001b[0m: name 'get_or_create_user' is not defined"
     ]
    }
   ],
   "source": [
    "get_or_create_user('David Knapp')"
   ]
  }
 ],
 "metadata": {
  "kernelspec": {
   "display_name": ".venv",
   "language": "python",
   "name": "python3"
  },
  "language_info": {
   "codemirror_mode": {
    "name": "ipython",
    "version": 3
   },
   "file_extension": ".py",
   "mimetype": "text/x-python",
   "name": "python",
   "nbconvert_exporter": "python",
   "pygments_lexer": "ipython3",
   "version": "3.11.11"
  }
 },
 "nbformat": 4,
 "nbformat_minor": 2
}
